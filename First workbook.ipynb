{
    "cells": [
        {
            "metadata": {
                "collapsed": true
            },
            "cell_type": "markdown",
            "source": "# My Jupyter Notebook on IBM Watson Studio"
        },
        {
            "metadata": {},
            "cell_type": "markdown",
            "source": "<b>Basel</b>\n\nBusiness Analyst"
        },
        {
            "metadata": {},
            "cell_type": "markdown",
            "source": "<i>I'm quite passionate about working with simple data models and would like to expand my skill set. This is the next logical step and will open doors to new careers.</i>"
        },
        {
            "metadata": {},
            "cell_type": "markdown",
            "source": "<h3>add two variables and print the summary<h3>"
        },
        {
            "metadata": {},
            "cell_type": "code",
            "source": "a = 1\nb = 2\nc = a + b\nprint(a, \"+\", b, \"=\", c)",
            "execution_count": 6,
            "outputs": [
                {
                    "output_type": "stream",
                    "text": "1 + 1 = 2\n",
                    "name": "stdout"
                }
            ]
        },
        {
            "metadata": {},
            "cell_type": "markdown",
            "source": "#### bulleted list\n---\n\n<ul>\n<li>Fish</li>\n<li>Eggs</li>\n<li>Cheese</li>\n</ul>\n\n\n#### numbered list\n\n---\n\n<ol>\n<li>Fish</li>\n<li>Eggs</li>\n<li>Cheese</li>\n</ol>\n\n#### Hyperlinks\n---\n\n<a> href=\"https://www.google.com\" >Link to Google</a>\n\n<a> href=\"https://www.reddit.com\" >Link to reddit</a>"
        },
        {
            "metadata": {},
            "cell_type": "code",
            "source": "",
            "execution_count": null,
            "outputs": []
        }
    ],
    "metadata": {
        "kernelspec": {
            "name": "python3",
            "display_name": "Python 3.7",
            "language": "python"
        },
        "language_info": {
            "name": "python",
            "version": "3.7.9",
            "mimetype": "text/x-python",
            "codemirror_mode": {
                "name": "ipython",
                "version": 3
            },
            "pygments_lexer": "ipython3",
            "nbconvert_exporter": "python",
            "file_extension": ".py"
        }
    },
    "nbformat": 4,
    "nbformat_minor": 1
}